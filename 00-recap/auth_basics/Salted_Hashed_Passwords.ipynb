{
 "cells": [
  {
   "cell_type": "code",
   "execution_count": null,
   "metadata": {
    "graffitiCellId": "id_o5zz5un"
   },
   "outputs": [],
   "source": [
    "# Import the Python Library\n",
    "import sys\n",
    "!{sys.executable} -m pip install bcrypt\n",
    "import bcrypt"
   ]
  },
  {
   "cell_type": "code",
   "execution_count": null,
   "metadata": {
    "graffitiCellId": "id_ewiz7ij"
   },
   "outputs": [],
   "source": [
    "password = b\"studyhard\""
   ]
  },
  {
   "cell_type": "code",
   "execution_count": null,
   "metadata": {
    "graffitiCellId": "id_okz0ahc"
   },
   "outputs": [],
   "source": [
    "# Hash a password for the first time, with a certain number of rounds\n",
    "salt = bcrypt.gensalt(14)\n",
    "hashed = bcrypt.hashpw(password, salt)\n",
    "print(salt)\n",
    "print(hashed)"
   ]
  },
  {
   "cell_type": "code",
   "execution_count": null,
   "metadata": {
    "graffitiCellId": "id_vve0col"
   },
   "outputs": [],
   "source": [
    "# Check a plain text string against the salted, hashed digest\n",
    "bcrypt.checkpw(password, hashed)"
   ]
  }
 ],
 "metadata": {
  "graffiti": {
   "firstAuthorId": "10489997357",
   "id": "id_owkala1",
   "language": "EN"
  },
  "kernelspec": {
   "display_name": "Python 3",
   "language": "python",
   "name": "python3"
  },
  "language_info": {
   "codemirror_mode": {
    "name": "ipython",
    "version": 3
   },
   "file_extension": ".py",
   "mimetype": "text/x-python",
   "name": "python",
   "nbconvert_exporter": "python",
   "pygments_lexer": "ipython3",
   "version": "3.6.3"
  }
 },
 "nbformat": 4,
 "nbformat_minor": 2
}
